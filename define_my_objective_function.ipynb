{
 "cells": [
  {
   "cell_type": "code",
   "execution_count": 1,
   "metadata": {},
   "outputs": [
    {
     "name": "stderr",
     "output_type": "stream",
     "text": [
      "/home/hanyang/anaconda3/envs/known_boundary/lib/python3.9/site-packages/tqdm/auto.py:21: TqdmWarning: IProgress not found. Please update jupyter and ipywidgets. See https://ipywidgets.readthedocs.io/en/stable/user_install.html\n",
      "  from .autonotebook import tqdm as notebook_tqdm\n"
     ]
    }
   ],
   "source": [
    "from botorch.test_functions.synthetic import SyntheticTestFunction\n",
    "\n",
    "# from __future__ import annotations\n",
    "\n",
    "import math\n",
    "from typing import List, Optional, Tuple, Union\n",
    "\n",
    "import torch\n",
    "from botorch.exceptions.errors import InputDataError\n",
    "from botorch.test_functions.base import BaseTestProblem, ConstrainedBaseTestProblem\n",
    "# from botorch.test_functions.utils import round_nearest\n",
    "from torch import Tensor"
   ]
  },
  {
   "cell_type": "code",
   "execution_count": 2,
   "metadata": {},
   "outputs": [],
   "source": [
    "class Sphere(SyntheticTestFunction):\n",
    "    r\"\"\"Ackley test function.\n",
    "\n",
    "    d-dimensional function (usually evaluated on `[-32.768, 32.768]^d`):\n",
    "\n",
    "        f(x) = -A exp(-B sqrt(1/d sum_{i=1}^d x_i^2)) -\n",
    "            exp(1/d sum_{i=1}^d cos(c x_i)) + A + exp(1)\n",
    "\n",
    "    f has one minimizer for its global minimum at `z_1 = (0, 0, ..., 0)` with\n",
    "    `f(z_1) = 0`.\n",
    "    \"\"\"\n",
    "\n",
    "    _optimal_value = 0.0\n",
    "    _check_grad_at_opt: bool = False\n",
    "\n",
    "    def __init__(\n",
    "        self,\n",
    "        dim: int = 2,\n",
    "        noise_std: Optional[float] = None,\n",
    "        negate: bool = False,\n",
    "        bounds: Optional[List[Tuple[float, float]]] = None,\n",
    "    ) -> None:\n",
    "        r\"\"\"\n",
    "        Args:\n",
    "            dim: The (input) dimension.\n",
    "            noise_std: Standard deviation of the observation noise.\n",
    "            negate: If True, negate the function.\n",
    "            bounds: Custom bounds for the function specified as (lower, upper) pairs.\n",
    "        \"\"\"\n",
    "        self.dim = dim\n",
    "        if bounds is None:\n",
    "            bounds = [(-5.12, 5.12) for _ in range(self.dim)]\n",
    "        self._optimizers = [tuple(0.0 for _ in range(self.dim))]\n",
    "        super().__init__(noise_std=noise_std, negate=negate, bounds=bounds)\n",
    "\n",
    "\n",
    "\n",
    "    def evaluate_true(self, X: Tensor) -> Tensor:\n",
    "        res = torch.linalg.norm(X, dim=-1)\n",
    "        return res**2"
   ]
  },
  {
   "cell_type": "code",
   "execution_count": 3,
   "metadata": {},
   "outputs": [],
   "source": [
    "function = Sphere(dim = 2, negate=False)"
   ]
  },
  {
   "cell_type": "code",
   "execution_count": 4,
   "metadata": {},
   "outputs": [
    {
     "data": {
      "text/plain": [
       "tensor(2.0000)"
      ]
     },
     "execution_count": 4,
     "metadata": {},
     "output_type": "execute_result"
    }
   ],
   "source": [
    "function(torch.tensor([1.,1.]))"
   ]
  }
 ],
 "metadata": {
  "kernelspec": {
   "display_name": "known_boundary",
   "language": "python",
   "name": "python3"
  },
  "language_info": {
   "codemirror_mode": {
    "name": "ipython",
    "version": 3
   },
   "file_extension": ".py",
   "mimetype": "text/x-python",
   "name": "python",
   "nbconvert_exporter": "python",
   "pygments_lexer": "ipython3",
   "version": "3.9.16"
  },
  "orig_nbformat": 4
 },
 "nbformat": 4,
 "nbformat_minor": 2
}
