{
 "cells": [
  {
   "cell_type": "code",
   "execution_count": 2,
   "metadata": {},
   "outputs": [
    {
     "data": {
      "text/plain": [
       "<matplotlib.collections.PathCollection at 0x7fea37a20550>"
      ]
     },
     "execution_count": 2,
     "metadata": {},
     "output_type": "execute_result"
    },
    {
     "data": {
      "image/png": "[encoded data removed]",
      "text/plain": [
       "<Figure size 640x480 with 1 Axes>"
      ]
     },
     "metadata": {},
     "output_type": "display_data"
    }
   ],
   "source": [
    "import numpy as np\n",
    "import GPy\n",
    "import matplotlib.pyplot as plt\n",
    "from known_boundary.SLogGP import SLogGP\n",
    "\n",
    "np.random.seed(0)\n",
    "\n",
    "\n",
    "X_init = np.array([0.0]).reshape(-1,1)\n",
    "Y_init = np.array([0.0]).reshape(-1,1)\n",
    "\n",
    "kernel = GPy.kern.RBF(input_dim=1,lengthscale= 0.2,variance=0.5)  #np.sqrt(res[0])\n",
    "model_test = GPy.models.GPRegression(X_init, Y_init,kernel)\n",
    "\n",
    "X_test = np.linspace(0,1,30).reshape(-1,1)\n",
    "Y_test = np.exp(0.5+model_test.posterior_samples_f(X_test,size=1).reshape(-1,1))-1\n",
    "\n",
    "plt.scatter(X_test,Y_test)"
   ]
  },
  {
   "cell_type": "code",
   "execution_count": 8,
   "metadata": {},
   "outputs": [
    {
     "name": "stderr",
     "output_type": "stream",
     "text": [
      "reconstraining parameters gp.rbf.lengthscale\n",
      "reconstraining parameters gp.rbf.variance\n"
     ]
    }
   ],
   "source": [
    "lower = -np.min(Y_test)+10**(-6)\n",
    "upper = lower+5\n",
    "\n",
    "m = GPy.models.WarpedGP(X_test, Y_test,warping_function=SLogGP(lower=lower,upper=upper,n_terms =1))\n",
    "m.rbf.lengthscale.constrain_bounded(0.01,10)\n",
    "m.rbf.variance.constrain_bounded(0.01**2,10)\n",
    "m.Gaussian_noise.fix(1e-6)\n",
    "parameter_num = 3\n",
    "\n",
    "for i in range(parameter_num**3):\n",
    "    try:\n",
    "        np.random.seed(i)\n",
    "        m.optimize()\n",
    "    except:\n",
    "        print('oh')\n",
    "        pass"
   ]
  },
  {
   "cell_type": "code",
   "execution_count": 5,
   "metadata": {},
   "outputs": [
    {
     "data": {
      "text/html": [
       "<style type=\"text/css\">\n",
       ".pd{\n",
       "    font-family: \"Courier New\", Courier, monospace !important;\n",
       "    width: 100%;\n",
       "    padding: 3px;\n",
       "}\n",
       "</style>\n",
       "\n",
       "<p class=pd>\n",
       "<b>Model</b>: gp<br>\n",
       "<b>Objective</b>: -121.27400194191124<br>\n",
       "<b>Number of Parameters</b>: 4<br>\n",
       "<b>Number of Optimization Parameters</b>: 3<br>\n",
       "<b>Updates</b>: True<br>\n",
       "</p>\n",
       "<style type=\"text/css\">\n",
       ".tg  {font-family:\"Courier New\", Courier, monospace !important;padding:2px 3px;word-break:normal;border-collapse:collapse;border-spacing:0;border-color:#DCDCDC;margin:0px auto;width:100%;}\n",
       ".tg td{font-family:\"Courier New\", Courier, monospace !important;font-weight:bold;color:#444;background-color:#F7FDFA;border-style:solid;border-width:1px;overflow:hidden;word-break:normal;border-color:#DCDCDC;}\n",
       ".tg th{font-family:\"Courier New\", Courier, monospace !important;font-weight:normal;color:#fff;background-color:#26ADE4;border-style:solid;border-width:1px;overflow:hidden;word-break:normal;border-color:#DCDCDC;}\n",
       ".tg .tg-left{font-family:\"Courier New\", Courier, monospace !important;font-weight:normal;text-align:left;}\n",
       ".tg .tg-center{font-family:\"Courier New\", Courier, monospace !important;font-weight:normal;text-align:center;}\n",
       ".tg .tg-right{font-family:\"Courier New\", Courier, monospace !important;font-weight:normal;text-align:right;}\n",
       "</style>\n",
       "<table class=\"tg\"><tr><th><b>  gp.                    </b></th><th><b>              value</b></th><th><b>            constraints             </b></th><th><b>priors</b></th></tr>\n",
       "<tr><td class=tg-left>  rbf.variance           </td><td class=tg-right> 1.3134625796354569</td><td class=tg-center>            0.0001,10.0             </td><td class=tg-center>      </td></tr>\n",
       "<tr><td class=tg-left>  rbf.lengthscale        </td><td class=tg-right>0.23025187379070672</td><td class=tg-center>             0.01,10.0              </td><td class=tg-center>      </td></tr>\n",
       "<tr><td class=tg-left>  Gaussian_noise.variance</td><td class=tg-right>              1e-06</td><td class=tg-center>             +ve fixed              </td><td class=tg-center>      </td></tr>\n",
       "<tr><td class=tg-left>  SlogGP.psi             </td><td class=tg-right>       [0.99096939]</td><td class=tg-center>0.7138615543306269,5.713861554330627</td><td class=tg-center>      </td></tr>\n",
       "</table>"
      ],
      "text/plain": [
       "<GPy.models.warped_gp.WarpedGP at 0x7fea2f6a3ac0>"
      ]
     },
     "execution_count": 5,
     "metadata": {},
     "output_type": "execute_result"
    }
   ],
   "source": [
    "m"
   ]
  }
 ],
 "metadata": {
  "kernelspec": {
   "display_name": "known_boundary",
   "language": "python",
   "name": "python3"
  },
  "language_info": {
   "codemirror_mode": {
    "name": "ipython",
    "version": 3
   },
   "file_extension": ".py",
   "mimetype": "text/x-python",
   "name": "python",
   "nbconvert_exporter": "python",
   "pygments_lexer": "ipython3",
   "version": "3.9.16"
  },
  "orig_nbformat": 4
 },
 "nbformat": 4,
 "nbformat_minor": 2
}
