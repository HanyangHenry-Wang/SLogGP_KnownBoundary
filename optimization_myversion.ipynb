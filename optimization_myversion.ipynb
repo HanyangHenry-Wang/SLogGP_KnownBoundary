{
 "cells": [
  {
   "attachments": {},
   "cell_type": "markdown",
   "metadata": {},
   "source": [
    "# example"
   ]
  },
  {
   "cell_type": "code",
   "execution_count": 1,
   "metadata": {},
   "outputs": [
    {
     "name": "stdout",
     "output_type": "stream",
     "text": [
      "Optimal Solution: [2. 3.]\n",
      "Optimal Value: 0.0\n"
     ]
    }
   ],
   "source": [
    "import numpy as np\n",
    "from scipy.optimize import fmin_l_bfgs_b\n",
    "\n",
    "# Define the objective function to be minimized\n",
    "def objective_function(x):\n",
    "    return (x[0] - 2.0) ** 2 + (x[1] - 3.0) ** 2\n",
    "\n",
    "# Define the gradient of the objective function\n",
    "def gradient(x):\n",
    "    grad_x0 = 2 * (x[0] - 2.0)\n",
    "    grad_x1 = 2 * (x[1] - 3.0)\n",
    "    return np.array([grad_x0, grad_x1])\n",
    "\n",
    "# Define the initial guess for the optimization\n",
    "initial_guess = np.array([0.0, 0.0])\n",
    "\n",
    "# Define the lower and upper bounds for each parameter\n",
    "bounds = [(1.0, 3.0), (2.0, 4.0)]\n",
    "\n",
    "# Perform the optimization using fmin_l_bfgs_b with the user-defined gradient\n",
    "result = fmin_l_bfgs_b(objective_function, initial_guess, fprime=gradient, bounds=bounds)\n",
    "\n",
    "# Extract the optimal solution and the corresponding function value\n",
    "optimal_solution = result[0]\n",
    "optimal_value = result[1]\n",
    "\n",
    "print(\"Optimal Solution:\", optimal_solution)\n",
    "print(\"Optimal Value:\", optimal_value)"
   ]
  },
  {
   "attachments": {},
   "cell_type": "markdown",
   "metadata": {},
   "source": [
    "# MLE (SLogGP)"
   ]
  },
  {
   "attachments": {},
   "cell_type": "markdown",
   "metadata": {},
   "source": []
  }
 ],
 "metadata": {
  "kernelspec": {
   "display_name": "known_boundary",
   "language": "python",
   "name": "python3"
  },
  "language_info": {
   "codemirror_mode": {
    "name": "ipython",
    "version": 3
   },
   "file_extension": ".py",
   "mimetype": "text/x-python",
   "name": "python",
   "nbconvert_exporter": "python",
   "pygments_lexer": "ipython3",
   "version": "3.9.16"
  },
  "orig_nbformat": 4
 },
 "nbformat": 4,
 "nbformat_minor": 2
}
