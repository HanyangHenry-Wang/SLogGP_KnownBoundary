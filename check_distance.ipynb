{
 "cells": [
  {
   "cell_type": "code",
   "execution_count": 4,
   "metadata": {},
   "outputs": [],
   "source": [
    "import botorch\n",
    "from known_boundary.acquisition_function import EI_acquisition_opt,MES_acquisition_opt,LCB_acquisition_opt,ERM_acquisition_opt,SLogTEI_acquisition_opt,SLogEI_acquisition_opt\n",
    "from known_boundary.utlis import  get_initial_points,transform,opt_model_MLE,opt_model_MAP\n",
    "import numpy as np\n",
    "import GPy\n",
    "import torch\n",
    "from botorch.test_functions import Ackley,Beale,Branin,Rosenbrock,SixHumpCamel,Hartmann,Powell,DixonPrice,Levy,StyblinskiTang,Griewank\n",
    "import obj_functions.push_problems\n",
    "import obj_functions.lunar_lander\n",
    "from  obj_functions.obj_function import Sphere\n",
    "from botorch.utils.transforms import unnormalize,normalize\n",
    "from known_boundary.SLogGP import SLogGP\n",
    "import scipy \n",
    "\n",
    "import warnings\n",
    "warnings.filterwarnings(\"ignore\")\n",
    "import logging\n",
    "logging.getLogger('lengthscale').disabled = True\n",
    "logging.getLogger('variance').disabled = True\n",
    "logging.getLogger('psi').disabled = True\n",
    "\n",
    "\n",
    "device = torch.device(\"cuda\" if torch.cuda.is_available() else \"cpu\")\n",
    "dtype = torch.double\n",
    "\n",
    "lengthscale_range = [0.001,2]\n",
    "variance_range = [0.001**2,20]"
   ]
  },
  {
   "cell_type": "code",
   "execution_count": 2,
   "metadata": {},
   "outputs": [],
   "source": [
    "train_X = np.array([0.25,0.35,0.5,0.75,0.9]).reshape(-1,1)\n",
    "train_Y = (train_X - 0.55)**2"
   ]
  },
  {
   "cell_type": "code",
   "execution_count": null,
   "metadata": {},
   "outputs": [],
   "source": [
    "c_range = [train_Y]\n",
    "parameters = opt_model_MLE(train_X,train_Y,1,'SLogGP',noise=10**(-6),seed=1234,lengthscale_range=lengthscale_range,\n",
    "                           variance_range=variance_range,c_range=c_range)                \n",
    "       "
   ]
  }
 ],
 "metadata": {
  "kernelspec": {
   "display_name": "known_boundary",
   "language": "python",
   "name": "python3"
  },
  "language_info": {
   "codemirror_mode": {
    "name": "ipython",
    "version": 3
   },
   "file_extension": ".py",
   "mimetype": "text/x-python",
   "name": "python",
   "nbconvert_exporter": "python",
   "pygments_lexer": "ipython3",
   "version": "3.9.16"
  }
 },
 "nbformat": 4,
 "nbformat_minor": 2
}
