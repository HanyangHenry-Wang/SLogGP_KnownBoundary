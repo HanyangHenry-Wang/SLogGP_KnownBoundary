{
 "cells": [
  {
   "cell_type": "code",
   "execution_count": 1,
   "metadata": {},
   "outputs": [
    {
     "name": "stderr",
     "output_type": "stream",
     "text": [
      "/home/hanyang/anaconda3/envs/known_boundary/lib/python3.9/site-packages/tqdm/auto.py:21: TqdmWarning: IProgress not found. Please update jupyter and ipywidgets. See https://ipywidgets.readthedocs.io/en/stable/user_install.html\n",
      "  from .autonotebook import tqdm as notebook_tqdm\n"
     ]
    },
    {
     "ename": "ModuleNotFoundError",
     "evalue": "No module named 'gymnasium'",
     "output_type": "error",
     "traceback": [
      "\u001b[0;31m---------------------------------------------------------------------------\u001b[0m",
      "\u001b[0;31mModuleNotFoundError\u001b[0m                       Traceback (most recent call last)",
      "Cell \u001b[0;32mIn[1], line 9\u001b[0m\n\u001b[1;32m      7\u001b[0m \u001b[39mfrom\u001b[39;00m \u001b[39mbotorch\u001b[39;00m\u001b[39m.\u001b[39;00m\u001b[39mtest_functions\u001b[39;00m \u001b[39mimport\u001b[39;00m Ackley,Beale,Branin,Rosenbrock,SixHumpCamel,Hartmann,Powell,DixonPrice,Levy,StyblinskiTang,Griewank\n\u001b[1;32m      8\u001b[0m \u001b[39mimport\u001b[39;00m \u001b[39mobj_functions\u001b[39;00m\u001b[39m.\u001b[39;00m\u001b[39mpush_problems\u001b[39;00m\n\u001b[0;32m----> 9\u001b[0m \u001b[39mimport\u001b[39;00m \u001b[39mobj_functions\u001b[39;00m\u001b[39m.\u001b[39;00m\u001b[39mlunar_lander\u001b[39;00m\n\u001b[1;32m     10\u001b[0m \u001b[39mfrom\u001b[39;00m \u001b[39mbotorch\u001b[39;00m\u001b[39m.\u001b[39;00m\u001b[39mutils\u001b[39;00m\u001b[39m.\u001b[39;00m\u001b[39mtransforms\u001b[39;00m \u001b[39mimport\u001b[39;00m unnormalize,normalize\n\u001b[1;32m     11\u001b[0m \u001b[39mfrom\u001b[39;00m \u001b[39mknown_boundary\u001b[39;00m\u001b[39m.\u001b[39;00m\u001b[39mSLogGP\u001b[39;00m \u001b[39mimport\u001b[39;00m SLogGP\n",
      "File \u001b[0;32m~/Desktop/Project/SLogGP_KnownBoundary/obj_functions/lunar_lander.py:2\u001b[0m\n\u001b[1;32m      1\u001b[0m \u001b[39mimport\u001b[39;00m \u001b[39mnumpy\u001b[39;00m \u001b[39mas\u001b[39;00m \u001b[39mnp\u001b[39;00m\n\u001b[0;32m----> 2\u001b[0m \u001b[39mimport\u001b[39;00m \u001b[39mgymnasium\u001b[39;00m \u001b[39mas\u001b[39;00m \u001b[39mgym\u001b[39;00m\n\u001b[1;32m      3\u001b[0m \u001b[39mimport\u001b[39;00m \u001b[39mtorch\u001b[39;00m\n\u001b[1;32m      5\u001b[0m \u001b[39mdef\u001b[39;00m \u001b[39mheuristic_Controller\u001b[39m(s, w): \u001b[39m# I think s is the state and w is the parameter that I need to tune\u001b[39;00m\n",
      "\u001b[0;31mModuleNotFoundError\u001b[0m: No module named 'gymnasium'"
     ]
    }
   ],
   "source": [
    "import botorch\n",
    "from known_boundary.acquisition_function import EI_acquisition_opt,MES_acquisition_opt,LCB_acquisition_opt,ERM_acquisition_opt,SLogTEI_acquisition_opt,SLogEI_acquisition_opt\n",
    "from known_boundary.utlis import  get_initial_points,transform,opt_model_MLE,opt_model_MAP\n",
    "import numpy as np\n",
    "import GPy\n",
    "import torch\n",
    "from botorch.test_functions import Ackley,Beale,Branin,Rosenbrock,SixHumpCamel,Hartmann,Powell,DixonPrice,Levy,StyblinskiTang,Griewank\n",
    "import obj_functions.push_problems\n",
    "import obj_functions.lunar_lander\n",
    "from botorch.utils.transforms import unnormalize,normalize\n",
    "from known_boundary.SLogGP import SLogGP\n",
    "import scipy \n",
    "\n",
    "import warnings\n",
    "warnings.filterwarnings(\"ignore\")\n",
    "import logging\n",
    "logging.getLogger('lengthscale').disabled = True\n",
    "logging.getLogger('variance').disabled = True\n",
    "logging.getLogger('psi').disabled = True\n",
    "\n",
    "\n",
    "device = torch.device(\"cuda\" if torch.cuda.is_available() else \"cpu\")\n",
    "dtype = torch.double\n",
    "\n",
    "\n",
    "function_information = []\n",
    "\n",
    "# temp={}\n",
    "# temp['name']='Push4D' \n",
    "# f_class = obj_functions.push_problems.push4\n",
    "# tx_1 = 3.5; ty_1 = 4\n",
    "# fun = f_class(tx_1, ty_1)\n",
    "# temp['function'] = fun\n",
    "# temp['fstar'] =  0.\n",
    "# function_information.append(temp)\n",
    "\n",
    "\n",
    "temp={}\n",
    "temp['name']='Lunar12D' \n",
    "temp['function'] = lunar_lander.lunar12\n",
    "temp['fstar'] = 0. \n",
    "temp['min']=True \n",
    "function_information.append(temp)\n",
    "\n",
    "for information in function_information:\n",
    "\n",
    "    fun = information['function']\n",
    "    dim = fun.dim\n",
    "    bounds = fun.bounds\n",
    "    standard_bounds=np.array([0.,1.]*dim).reshape(-1,2)\n",
    "    \n",
    "    n_init = 4*dim\n",
    "\n",
    "    \n",
    "    fstar = information['fstar']\n",
    "    \n",
    "    print('fstar is: ',fstar)\n",
    "    \n",
    "    if dim <=3:\n",
    "        step_size = 2\n",
    "        iter_num = 50\n",
    "        N = 100\n",
    "    elif dim<=5:\n",
    "        step_size = 3\n",
    "        iter_num = 100\n",
    "        N = 100\n",
    "    else:\n",
    "        step_size = 3\n",
    "        iter_num = 200\n",
    "        N = 30\n",
    "        \n",
    "    lengthscale_range = [0.001,2]\n",
    "    variance_range = [0.001**2,20]\n",
    "    noise = 1e-6\n",
    "    \n",
    "    print(information['name'])"
   ]
  }
 ],
 "metadata": {
  "kernelspec": {
   "display_name": "known_boundary",
   "language": "python",
   "name": "python3"
  },
  "language_info": {
   "codemirror_mode": {
    "name": "ipython",
    "version": 3
   },
   "file_extension": ".py",
   "mimetype": "text/x-python",
   "name": "python",
   "nbconvert_exporter": "python",
   "pygments_lexer": "ipython3",
   "version": "3.9.16"
  },
  "orig_nbformat": 4
 },
 "nbformat": 4,
 "nbformat_minor": 2
}
